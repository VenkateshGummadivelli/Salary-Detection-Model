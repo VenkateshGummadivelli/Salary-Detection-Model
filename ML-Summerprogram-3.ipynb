{
 "cells": [
  {
   "cell_type": "code",
   "execution_count": 1,
   "id": "e2f40623",
   "metadata": {},
   "outputs": [],
   "source": [
    "#Pandas is mainly used for data analysis. Pandas allows importing data from various file formats such as comma-separated values, JSON, SQL, Microsoft Excel. Pandas allows various data manipulation operations such as merging, reshaping, selecting, as well as data cleaning, and data wrangling features.\n",
    "#import pandas means importing All pandas functonalities.\n",
    "import pandas"
   ]
  },
  {
   "cell_type": "code",
   "execution_count": 2,
   "id": "98044d65",
   "metadata": {},
   "outputs": [],
   "source": [
    "#Reading the whole data with the help of pandas\n",
    "db = pandas.read_csv(\"Salary_Data.csv\")"
   ]
  },
  {
   "cell_type": "code",
   "execution_count": 3,
   "id": "c5b8d11d",
   "metadata": {},
   "outputs": [
    {
     "data": {
      "text/plain": [
       "Index(['YearsExperience', 'Salary'], dtype='object')"
      ]
     },
     "execution_count": 3,
     "metadata": {},
     "output_type": "execute_result"
    }
   ],
   "source": [
    "#It helps to tell the coloums heading and datatype\n",
    "db.columns"
   ]
  },
  {
   "cell_type": "code",
   "execution_count": 4,
   "id": "ed20308b",
   "metadata": {},
   "outputs": [
    {
     "data": {
      "text/plain": [
       "<bound method DataFrame.info of     YearsExperience    Salary\n",
       "0               1.1   39343.0\n",
       "1               1.3   46205.0\n",
       "2               1.5   37731.0\n",
       "3               2.0   43525.0\n",
       "4               2.2   39891.0\n",
       "5               2.9   56642.0\n",
       "6               3.0   60150.0\n",
       "7               3.2   54445.0\n",
       "8               3.2   64445.0\n",
       "9               3.7   57189.0\n",
       "10              3.9   63218.0\n",
       "11              4.0   55794.0\n",
       "12              4.0   56957.0\n",
       "13              4.1   57081.0\n",
       "14              4.5   61111.0\n",
       "15              4.9   67938.0\n",
       "16              5.1   66029.0\n",
       "17              5.3   83088.0\n",
       "18              5.9   81363.0\n",
       "19              6.0   93940.0\n",
       "20              6.8   91738.0\n",
       "21              7.1   98273.0\n",
       "22              7.9  101302.0\n",
       "23              8.2  113812.0\n",
       "24              8.7  109431.0\n",
       "25              9.0  105582.0\n",
       "26              9.5  116969.0\n",
       "27              9.6  112635.0\n",
       "28             10.3  122391.0\n",
       "29             10.5  121872.0>"
      ]
     },
     "execution_count": 4,
     "metadata": {},
     "output_type": "execute_result"
    }
   ],
   "source": [
    "#info tells the all information in the file\n",
    "db.info"
   ]
  },
  {
   "cell_type": "code",
   "execution_count": 5,
   "id": "8de68457",
   "metadata": {},
   "outputs": [],
   "source": [
    "#It includes all the data of coloum 'yearsexperience' to x.\n",
    "x= db[\"YearsExperience\"]"
   ]
  },
  {
   "cell_type": "code",
   "execution_count": 6,
   "id": "1d46c607",
   "metadata": {},
   "outputs": [
    {
     "data": {
      "text/plain": [
       "0      1.1\n",
       "1      1.3\n",
       "2      1.5\n",
       "3      2.0\n",
       "4      2.2\n",
       "5      2.9\n",
       "6      3.0\n",
       "7      3.2\n",
       "8      3.2\n",
       "9      3.7\n",
       "10     3.9\n",
       "11     4.0\n",
       "12     4.0\n",
       "13     4.1\n",
       "14     4.5\n",
       "15     4.9\n",
       "16     5.1\n",
       "17     5.3\n",
       "18     5.9\n",
       "19     6.0\n",
       "20     6.8\n",
       "21     7.1\n",
       "22     7.9\n",
       "23     8.2\n",
       "24     8.7\n",
       "25     9.0\n",
       "26     9.5\n",
       "27     9.6\n",
       "28    10.3\n",
       "29    10.5\n",
       "Name: YearsExperience, dtype: float64"
      ]
     },
     "execution_count": 6,
     "metadata": {},
     "output_type": "execute_result"
    }
   ],
   "source": [
    "#It shows all the values that are assigned to x i.e 'yearsexperience'\n",
    "x"
   ]
  },
  {
   "cell_type": "code",
   "execution_count": 7,
   "id": "a1303d3d",
   "metadata": {},
   "outputs": [],
   "source": [
    "# It will reshape and convert the data from 1D to 2D.\n",
    "x = db['YearsExperience'].values.reshape(30,1)"
   ]
  },
  {
   "cell_type": "code",
   "execution_count": 8,
   "id": "72040c27",
   "metadata": {},
   "outputs": [
    {
     "data": {
      "text/plain": [
       "array([[ 1.1],\n",
       "       [ 1.3],\n",
       "       [ 1.5],\n",
       "       [ 2. ],\n",
       "       [ 2.2],\n",
       "       [ 2.9],\n",
       "       [ 3. ],\n",
       "       [ 3.2],\n",
       "       [ 3.2],\n",
       "       [ 3.7],\n",
       "       [ 3.9],\n",
       "       [ 4. ],\n",
       "       [ 4. ],\n",
       "       [ 4.1],\n",
       "       [ 4.5],\n",
       "       [ 4.9],\n",
       "       [ 5.1],\n",
       "       [ 5.3],\n",
       "       [ 5.9],\n",
       "       [ 6. ],\n",
       "       [ 6.8],\n",
       "       [ 7.1],\n",
       "       [ 7.9],\n",
       "       [ 8.2],\n",
       "       [ 8.7],\n",
       "       [ 9. ],\n",
       "       [ 9.5],\n",
       "       [ 9.6],\n",
       "       [10.3],\n",
       "       [10.5]])"
      ]
     },
     "execution_count": 8,
     "metadata": {},
     "output_type": "execute_result"
    }
   ],
   "source": [
    "# input of the data to train the model/It is also called as feature\n",
    "x"
   ]
  },
  {
   "cell_type": "code",
   "execution_count": 9,
   "id": "3c1f5d44",
   "metadata": {},
   "outputs": [],
   "source": [
    "#It includes all the data of coloum 'Salary' to y.\n",
    "y = db[\"Salary\"]"
   ]
  },
  {
   "cell_type": "code",
   "execution_count": 10,
   "id": "bb1a1704",
   "metadata": {},
   "outputs": [
    {
     "data": {
      "text/plain": [
       "0      39343.0\n",
       "1      46205.0\n",
       "2      37731.0\n",
       "3      43525.0\n",
       "4      39891.0\n",
       "5      56642.0\n",
       "6      60150.0\n",
       "7      54445.0\n",
       "8      64445.0\n",
       "9      57189.0\n",
       "10     63218.0\n",
       "11     55794.0\n",
       "12     56957.0\n",
       "13     57081.0\n",
       "14     61111.0\n",
       "15     67938.0\n",
       "16     66029.0\n",
       "17     83088.0\n",
       "18     81363.0\n",
       "19     93940.0\n",
       "20     91738.0\n",
       "21     98273.0\n",
       "22    101302.0\n",
       "23    113812.0\n",
       "24    109431.0\n",
       "25    105582.0\n",
       "26    116969.0\n",
       "27    112635.0\n",
       "28    122391.0\n",
       "29    121872.0\n",
       "Name: Salary, dtype: float64"
      ]
     },
     "execution_count": 10,
     "metadata": {},
     "output_type": "execute_result"
    }
   ],
   "source": [
    "#It shows all the values that are assigned to x i.e 'Salary'\n",
    "#It is the output value which is requires when we predict\n",
    "y"
   ]
  },
  {
   "cell_type": "code",
   "execution_count": 11,
   "id": "9f674b66",
   "metadata": {},
   "outputs": [],
   "source": [
    "#Linearregression is an ML algo used for linear model which is used to finds weights and relates between independent variables of linear expression and this is imported from sklearn library.\n",
    "from sklearn.linear_model import LinearRegression "
   ]
  },
  {
   "cell_type": "code",
   "execution_count": 12,
   "id": "1bb81e72",
   "metadata": {},
   "outputs": [],
   "source": [
    "#It helps to create the empty mind\n",
    "mind=LinearRegression() "
   ]
  },
  {
   "cell_type": "code",
   "execution_count": 13,
   "id": "ac6a5306",
   "metadata": {},
   "outputs": [
    {
     "data": {
      "text/plain": [
       "LinearRegression()"
      ]
     },
     "execution_count": 13,
     "metadata": {},
     "output_type": "execute_result"
    }
   ],
   "source": [
    "# Fit function adjusts weights according to data values so that better accuracy can be achieved. After training, the model can be used for predictions\n",
    "mind.fit(x,y)"
   ]
  },
  {
   "cell_type": "code",
   "execution_count": 14,
   "id": "703d9995",
   "metadata": {},
   "outputs": [
    {
     "data": {
      "text/plain": [
       "array([9449.96232146])"
      ]
     },
     "execution_count": 14,
     "metadata": {},
     "output_type": "execute_result"
    }
   ],
   "source": [
    "#It helps to tell the weight of trained model.\n",
    "mind.coef_"
   ]
  },
  {
   "cell_type": "code",
   "execution_count": 15,
   "id": "acbc96bc",
   "metadata": {},
   "outputs": [
    {
     "data": {
      "text/plain": [
       "array([49417.10600231])"
      ]
     },
     "execution_count": 15,
     "metadata": {},
     "output_type": "execute_result"
    }
   ],
   "source": [
    "#It helps to predict the new data with the help of trained model\n",
    "mind.predict([[2.5]])"
   ]
  },
  {
   "cell_type": "code",
   "execution_count": 16,
   "id": "950eb209",
   "metadata": {},
   "outputs": [],
   "source": [
    "#Joblib can efficiently dump and load numpy arrays but does not require numpy to be installed.\n",
    "import joblib"
   ]
  },
  {
   "cell_type": "code",
   "execution_count": 17,
   "id": "83a8470f",
   "metadata": {},
   "outputs": [
    {
     "data": {
      "text/plain": [
       "['salary.sk1']"
      ]
     },
     "execution_count": 17,
     "metadata": {},
     "output_type": "execute_result"
    }
   ],
   "source": [
    "#dump the trained model file saved.\n",
    "joblib.dump(mind,'salary.sk1')"
   ]
  },
  {
   "cell_type": "code",
   "execution_count": 18,
   "id": "3c84150e",
   "metadata": {},
   "outputs": [
    {
     "data": {
      "text/plain": [
       "array([9449.96232146])"
      ]
     },
     "execution_count": 18,
     "metadata": {},
     "output_type": "execute_result"
    }
   ],
   "source": [
    "#it helps to tell the weight of the trained model.like m in y=mx+c\n",
    "mind.coef_"
   ]
  },
  {
   "cell_type": "code",
   "execution_count": 19,
   "id": "8a49720b",
   "metadata": {},
   "outputs": [
    {
     "data": {
      "text/plain": [
       "25792.20019866871"
      ]
     },
     "execution_count": 19,
     "metadata": {},
     "output_type": "execute_result"
    }
   ],
   "source": [
    "#It helps to tell the bias of the trained model like constant in y=mx+c\n",
    "mind.intercept_"
   ]
  },
  {
   "cell_type": "code",
   "execution_count": 20,
   "id": "a70b3379",
   "metadata": {},
   "outputs": [
    {
     "data": {
      "text/plain": [
       "array([44692.12484158])"
      ]
     },
     "execution_count": 20,
     "metadata": {},
     "output_type": "execute_result"
    }
   ],
   "source": [
    "#Helps to predict the new data.\n",
    "mind.predict([[2]])"
   ]
  },
  {
   "cell_type": "code",
   "execution_count": 21,
   "id": "ed329046",
   "metadata": {},
   "outputs": [
    {
     "data": {
      "text/plain": [
       "97.3885223757466"
      ]
     },
     "execution_count": 21,
     "metadata": {},
     "output_type": "execute_result"
    }
   ],
   "source": [
    "#Formule accurancy = (predicted value (y)/ actual value (y))*100\n",
    "43525/44692.12484 * 100\n"
   ]
  },
  {
   "cell_type": "code",
   "execution_count": 22,
   "id": "75b80093",
   "metadata": {},
   "outputs": [],
   "source": [
    "# Hence the model is having accuracy of 97.3%"
   ]
  },
  {
   "cell_type": "code",
   "execution_count": 23,
   "id": "4d298260",
   "metadata": {},
   "outputs": [],
   "source": [
    "# Hence the model is trained well."
   ]
  }
 ],
 "metadata": {
  "kernelspec": {
   "display_name": "Python 3",
   "language": "python",
   "name": "python3"
  },
  "language_info": {
   "codemirror_mode": {
    "name": "ipython",
    "version": 3
   },
   "file_extension": ".py",
   "mimetype": "text/x-python",
   "name": "python",
   "nbconvert_exporter": "python",
   "pygments_lexer": "ipython3",
   "version": "3.8.8"
  }
 },
 "nbformat": 4,
 "nbformat_minor": 5
}
